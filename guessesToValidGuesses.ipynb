{
 "cells": [
  {
   "cell_type": "code",
   "execution_count": 21,
   "metadata": {},
   "outputs": [],
   "source": [
    "import json\n",
    "fileName = \"80s\"\n",
    "with open(f'out/{fileName}.json') as f:\n",
    "    guesses = json.loads(f.read())\n",
    "catalog = set()\n",
    "\n",
    "valid_guesses = []      \n",
    "for lyricle in guesses:\n",
    "    title = lyricle[\"title\"]\n",
    "    artist = lyricle[\"artist\"]\n",
    "    if (title, artist) not in catalog:\n",
    "        found = False\n",
    "        for i, search in enumerate(valid_guesses):\n",
    "            if search['artist'] == artist:\n",
    "                found = True\n",
    "                valid_guesses[i]['songs'].append(title)\n",
    "                break\n",
    "        if not found:\n",
    "            valid_guesses.append({\"artist\": artist, \"songs\": [title]})\n",
    "        catalog.add((title, artist))"
   ]
  },
  {
   "cell_type": "code",
   "execution_count": 22,
   "metadata": {},
   "outputs": [],
   "source": [
    "out = json.dumps(valid_guesses, ensure_ascii=False)\n",
    "with open(f\"out/{fileName}_validGuesses.json\", 'w') as f:\n",
    "    f.write(out)\n",
    "    "
   ]
  },
  {
   "cell_type": "code",
   "execution_count": null,
   "metadata": {},
   "outputs": [],
   "source": []
  }
 ],
 "metadata": {
  "kernelspec": {
   "display_name": "Python 3.8.5 ('.venv': venv)",
   "language": "python",
   "name": "python3"
  },
  "language_info": {
   "codemirror_mode": {
    "name": "ipython",
    "version": 3
   },
   "file_extension": ".py",
   "mimetype": "text/x-python",
   "name": "python",
   "nbconvert_exporter": "python",
   "pygments_lexer": "ipython3",
   "version": "3.8.5"
  },
  "orig_nbformat": 4,
  "vscode": {
   "interpreter": {
    "hash": "6b36ffbafde985a9afaffaa22eed5a80d02fffaf8a0bb340c3dac214efe4e590"
   }
  }
 },
 "nbformat": 4,
 "nbformat_minor": 2
}
