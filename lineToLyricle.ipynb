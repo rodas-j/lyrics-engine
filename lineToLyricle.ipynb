{
 "cells": [
  {
   "cell_type": "code",
   "execution_count": 8,
   "metadata": {},
   "outputs": [],
   "source": [
    "import re"
   ]
  },
  {
   "cell_type": "code",
   "execution_count": 9,
   "metadata": {},
   "outputs": [],
   "source": [
    "with open(\"week.txt\") as f:\n",
    "    data = f.read()\n",
    "    \n",
    "dataLines = data.splitlines()"
   ]
  },
  {
   "cell_type": "code",
   "execution_count": 10,
   "metadata": {},
   "outputs": [
    {
     "name": "stdout",
     "output_type": "stream",
     "text": [
      "Error with Song I Wanna Dance with Somebody doesn't exist for the artist Whitney Houston please correct your input.\n"
     ]
    }
   ],
   "source": [
    "import json\n",
    "from app import get_song_lyricle\n",
    "\n",
    "\n",
    "lyricles = []\n",
    "include = False\n",
    "for i, line in enumerate(dataLines):\n",
    "    if i % 8 == 0:\n",
    "        artist, title = line.split(\",\")\n",
    "        artit = artist.strip()\n",
    "        title = title.strip()\n",
    "        lyrics = dataLines[i+1:i+7]\n",
    "        \n",
    "        try:\n",
    "            lyricle = json.loads(get_song_lyricle(title, artist, False))\n",
    "            \n",
    "            lyricle[\"lyrics\"] = lyrics\n",
    "\n",
    "            \n",
    "\n",
    "            \n",
    "        except Exception as e:\n",
    "            print(\"Error with\", e)\n",
    "            lyricle = {\n",
    "                \"title\": title,\n",
    "                \"artist\": artist,\n",
    "                \"lyrics\": lyrics,\n",
    "                \"songLink\": \"\",\n",
    "                \"artworkLink\": \"\"\n",
    "            }\n",
    "            \n",
    "\n",
    "                \n",
    "\n",
    "        lyricles.append(lyricle)\n",
    "\n",
    "    "
   ]
  },
  {
   "cell_type": "code",
   "execution_count": 6,
   "metadata": {},
   "outputs": [],
   "source": [
    "from utils import LyricleJSONSerializer\n",
    "with open(\"out/all_validGuesses.json\", \"r\") as f:\n",
    "    initial_valid_guesses = json.load(f)\n",
    "    LyricleJSONSerializer.generate_song_list_from_data\n",
    "    valid_guesses = LyricleJSONSerializer.append_valid_guesses(\n",
    "        initial_valid_guesses,\n",
    "        lyricles)\n",
    "LyricleJSONSerializer.to_json_file(valid_guesses, f\"main/all_validGuesses.json\")"
   ]
  },
  {
   "cell_type": "code",
   "execution_count": 7,
   "metadata": {},
   "outputs": [],
   "source": [
    "with open(\"lyricles.json\", \"w\") as f:\n",
    "    f.write(json.dumps(lyricles, ensure_ascii=False))"
   ]
  },
  {
   "cell_type": "markdown",
   "metadata": {},
   "source": [
    "# Filter"
   ]
  },
  {
   "cell_type": "code",
   "execution_count": 9,
   "metadata": {},
   "outputs": [],
   "source": [
    "import json\n",
    "with open(\"out/main/main.json\", \"r\") as f:\n",
    "    data = json.load(f)"
   ]
  },
  {
   "cell_type": "code",
   "execution_count": 10,
   "metadata": {},
   "outputs": [],
   "source": [
    "from utils import LyricleJSONSerializer\n",
    "with open(\"out/main/all_validGuesses.json\", \"r\") as f:\n",
    "    initial_valid_guesses = json.load(f)\n",
    "    LyricleJSONSerializer.generate_song_list_from_data\n",
    "    valid_guesses = LyricleJSONSerializer.append_valid_guesses(\n",
    "        initial_valid_guesses,\n",
    "        lyricles,\n",
    "    )\n",
    "    LyricleJSONSerializer.to_json_file(valid_guesses, f\"main/all_validGuesses.json\")"
   ]
  },
  {
   "cell_type": "code",
   "execution_count": null,
   "metadata": {},
   "outputs": [],
   "source": []
  }
 ],
 "metadata": {
  "kernelspec": {
   "display_name": "Python 3.8.5 ('.venv': venv)",
   "language": "python",
   "name": "python3"
  },
  "language_info": {
   "codemirror_mode": {
    "name": "ipython",
    "version": 3
   },
   "file_extension": ".py",
   "mimetype": "text/x-python",
   "name": "python",
   "nbconvert_exporter": "python",
   "pygments_lexer": "ipython3",
   "version": "3.8.5"
  },
  "orig_nbformat": 4,
  "vscode": {
   "interpreter": {
    "hash": "6b36ffbafde985a9afaffaa22eed5a80d02fffaf8a0bb340c3dac214efe4e590"
   }
  }
 },
 "nbformat": 4,
 "nbformat_minor": 2
}
